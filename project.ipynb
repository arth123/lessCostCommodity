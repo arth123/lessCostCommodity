{
 "cells": [
  {
   "cell_type": "code",
   "execution_count": 6,
   "metadata": {
    "collapsed": true
   },
   "outputs": [],
   "source": [
    "import numpy as np\n",
    "import pandas as pd\n"
   ]
  },
  {
   "cell_type": "code",
   "execution_count": 9,
   "metadata": {},
   "outputs": [
    {
     "data": {
      "text/html": [
       "<div>\n",
       "<style>\n",
       "    .dataframe thead tr:only-child th {\n",
       "        text-align: right;\n",
       "    }\n",
       "\n",
       "    .dataframe thead th {\n",
       "        text-align: left;\n",
       "    }\n",
       "\n",
       "    .dataframe tbody tr th {\n",
       "        vertical-align: top;\n",
       "    }\n",
       "</style>\n",
       "<table border=\"1\" class=\"dataframe\">\n",
       "  <thead>\n",
       "    <tr style=\"text-align: right;\">\n",
       "      <th></th>\n",
       "      <th>adm0_id</th>\n",
       "      <th>adm0_name</th>\n",
       "      <th>adm1_id</th>\n",
       "      <th>adm1_name</th>\n",
       "      <th>mkt_id</th>\n",
       "      <th>mkt_name</th>\n",
       "      <th>cm_id</th>\n",
       "      <th>cm_name</th>\n",
       "      <th>cur_id</th>\n",
       "      <th>cur_name</th>\n",
       "      <th>pt_id</th>\n",
       "      <th>pt_name</th>\n",
       "      <th>um_id</th>\n",
       "      <th>um_name</th>\n",
       "      <th>mp_month</th>\n",
       "      <th>mp_year</th>\n",
       "      <th>mp_price</th>\n",
       "      <th>mp_commoditysource</th>\n",
       "    </tr>\n",
       "  </thead>\n",
       "  <tbody>\n",
       "    <tr>\n",
       "      <th>0</th>\n",
       "      <td>1</td>\n",
       "      <td>Afghanistan</td>\n",
       "      <td>272</td>\n",
       "      <td>Badakhshan</td>\n",
       "      <td>266</td>\n",
       "      <td>Fayzabad</td>\n",
       "      <td>55</td>\n",
       "      <td>Bread</td>\n",
       "      <td>87</td>\n",
       "      <td>AFN</td>\n",
       "      <td>15</td>\n",
       "      <td>Retail</td>\n",
       "      <td>5</td>\n",
       "      <td>KG</td>\n",
       "      <td>1</td>\n",
       "      <td>2014</td>\n",
       "      <td>50.0</td>\n",
       "      <td>WFP</td>\n",
       "    </tr>\n",
       "    <tr>\n",
       "      <th>1</th>\n",
       "      <td>1</td>\n",
       "      <td>Afghanistan</td>\n",
       "      <td>272</td>\n",
       "      <td>Badakhshan</td>\n",
       "      <td>266</td>\n",
       "      <td>Fayzabad</td>\n",
       "      <td>55</td>\n",
       "      <td>Bread</td>\n",
       "      <td>87</td>\n",
       "      <td>AFN</td>\n",
       "      <td>15</td>\n",
       "      <td>Retail</td>\n",
       "      <td>5</td>\n",
       "      <td>KG</td>\n",
       "      <td>2</td>\n",
       "      <td>2014</td>\n",
       "      <td>50.0</td>\n",
       "      <td>WFP</td>\n",
       "    </tr>\n",
       "    <tr>\n",
       "      <th>2</th>\n",
       "      <td>1</td>\n",
       "      <td>Afghanistan</td>\n",
       "      <td>272</td>\n",
       "      <td>Badakhshan</td>\n",
       "      <td>266</td>\n",
       "      <td>Fayzabad</td>\n",
       "      <td>55</td>\n",
       "      <td>Bread</td>\n",
       "      <td>87</td>\n",
       "      <td>AFN</td>\n",
       "      <td>15</td>\n",
       "      <td>Retail</td>\n",
       "      <td>5</td>\n",
       "      <td>KG</td>\n",
       "      <td>3</td>\n",
       "      <td>2014</td>\n",
       "      <td>50.0</td>\n",
       "      <td>WFP</td>\n",
       "    </tr>\n",
       "    <tr>\n",
       "      <th>3</th>\n",
       "      <td>1</td>\n",
       "      <td>Afghanistan</td>\n",
       "      <td>272</td>\n",
       "      <td>Badakhshan</td>\n",
       "      <td>266</td>\n",
       "      <td>Fayzabad</td>\n",
       "      <td>55</td>\n",
       "      <td>Bread</td>\n",
       "      <td>87</td>\n",
       "      <td>AFN</td>\n",
       "      <td>15</td>\n",
       "      <td>Retail</td>\n",
       "      <td>5</td>\n",
       "      <td>KG</td>\n",
       "      <td>4</td>\n",
       "      <td>2014</td>\n",
       "      <td>50.0</td>\n",
       "      <td>WFP</td>\n",
       "    </tr>\n",
       "    <tr>\n",
       "      <th>4</th>\n",
       "      <td>1</td>\n",
       "      <td>Afghanistan</td>\n",
       "      <td>272</td>\n",
       "      <td>Badakhshan</td>\n",
       "      <td>266</td>\n",
       "      <td>Fayzabad</td>\n",
       "      <td>55</td>\n",
       "      <td>Bread</td>\n",
       "      <td>87</td>\n",
       "      <td>AFN</td>\n",
       "      <td>15</td>\n",
       "      <td>Retail</td>\n",
       "      <td>5</td>\n",
       "      <td>KG</td>\n",
       "      <td>5</td>\n",
       "      <td>2014</td>\n",
       "      <td>50.0</td>\n",
       "      <td>WFP</td>\n",
       "    </tr>\n",
       "    <tr>\n",
       "      <th>5</th>\n",
       "      <td>1</td>\n",
       "      <td>Afghanistan</td>\n",
       "      <td>272</td>\n",
       "      <td>Badakhshan</td>\n",
       "      <td>266</td>\n",
       "      <td>Fayzabad</td>\n",
       "      <td>55</td>\n",
       "      <td>Bread</td>\n",
       "      <td>87</td>\n",
       "      <td>AFN</td>\n",
       "      <td>15</td>\n",
       "      <td>Retail</td>\n",
       "      <td>5</td>\n",
       "      <td>KG</td>\n",
       "      <td>6</td>\n",
       "      <td>2014</td>\n",
       "      <td>50.0</td>\n",
       "      <td>WFP</td>\n",
       "    </tr>\n",
       "  </tbody>\n",
       "</table>\n",
       "</div>"
      ],
      "text/plain": [
       "   adm0_id    adm0_name  adm1_id   adm1_name  mkt_id  mkt_name  cm_id cm_name  \\\n",
       "0        1  Afghanistan      272  Badakhshan     266  Fayzabad     55   Bread   \n",
       "1        1  Afghanistan      272  Badakhshan     266  Fayzabad     55   Bread   \n",
       "2        1  Afghanistan      272  Badakhshan     266  Fayzabad     55   Bread   \n",
       "3        1  Afghanistan      272  Badakhshan     266  Fayzabad     55   Bread   \n",
       "4        1  Afghanistan      272  Badakhshan     266  Fayzabad     55   Bread   \n",
       "5        1  Afghanistan      272  Badakhshan     266  Fayzabad     55   Bread   \n",
       "\n",
       "   cur_id cur_name  pt_id pt_name  um_id um_name  mp_month  mp_year  mp_price  \\\n",
       "0      87      AFN     15  Retail      5      KG         1     2014      50.0   \n",
       "1      87      AFN     15  Retail      5      KG         2     2014      50.0   \n",
       "2      87      AFN     15  Retail      5      KG         3     2014      50.0   \n",
       "3      87      AFN     15  Retail      5      KG         4     2014      50.0   \n",
       "4      87      AFN     15  Retail      5      KG         5     2014      50.0   \n",
       "5      87      AFN     15  Retail      5      KG         6     2014      50.0   \n",
       "\n",
       "  mp_commoditysource  \n",
       "0                WFP  \n",
       "1                WFP  \n",
       "2                WFP  \n",
       "3                WFP  \n",
       "4                WFP  \n",
       "5                WFP  "
      ]
     },
     "execution_count": 9,
     "metadata": {},
     "output_type": "execute_result"
    }
   ],
   "source": [
    "data = pd.read_csv('wfp_market_food_prices.csv',encoding = \"ISO-8859-1\")\n",
    "data.head(6)"
   ]
  },
  {
   "cell_type": "code",
   "execution_count": 10,
   "metadata": {},
   "outputs": [
    {
     "name": "stdout",
     "output_type": "stream",
     "text": [
      "['AFN', 'DZD', 'AMD', 'AZN', 'BDT', 'XOF', 'BTN', 'BOB', 'XOF', 'BIF', 'KHR', 'XAF', 'CVE', 'XAF', 'XAF', 'COP', 'XAF', 'USD', 'XOF', 'CDF', 'DJF', 'USD', 'ETB', 'GMD', 'GEL', 'GHS', 'GTQ', 'XOF', 'GNF', 'HTG', 'USD', 'INR', 'IDR', 'IRR', 'IQD', 'JOD', 'KES', 'KGS', 'LAK', 'LBP', 'LSL', 'LRD', 'MGA', 'MWK', 'XOF', 'MRO', 'MZN', 'MMK', 'NPR', 'XOF', 'NGN', 'PKR', 'USD', 'PEN', 'PHP', 'RWF', 'XOF', 'SOS', 'LKR', 'SZL', 'SYP', 'TJS', 'USD', 'TRY', 'UGX', 'UAH', 'TZS', 'YER', 'ZMW', 'USD', 'NIS', 'SDG', 'EGP', 'SSP']\n"
     ]
    }
   ],
   "source": [
    "#Currency of each country\n",
    "unique_coun=data.adm0_name.unique()\n",
    "l=[]\n",
    "for i in unique_coun:\n",
    "    l.append(data.cur_name[(data.loc[data['adm0_name']==i].index[0])])\n",
    "print(l)"
   ]
  },
  {
   "cell_type": "code",
   "execution_count": 11,
   "metadata": {
    "collapsed": true
   },
   "outputs": [],
   "source": [
    "#country name and currency\n",
    "Coun_type=list(zip(unique_coun,l))\n"
   ]
  },
  {
   "cell_type": "code",
   "execution_count": 12,
   "metadata": {},
   "outputs": [
    {
     "data": {
      "text/plain": [
       "{'AED': 3.673014,\n",
       " 'AFN': 68.659,\n",
       " 'ALL': 111.485,\n",
       " 'AMD': 478.51,\n",
       " 'ANG': 1.779694,\n",
       " 'AOA': 165.9215,\n",
       " 'ARS': 17.1245,\n",
       " 'AUD': 1.2473,\n",
       " 'AWG': 1.796002,\n",
       " 'AZN': 1.6855,\n",
       " 'BAM': 1.630861,\n",
       " 'BBD': 2,\n",
       " 'BDT': 81.96,\n",
       " 'BGN': 1.630675,\n",
       " 'BHD': 0.377043,\n",
       " 'BIF': 1745.75,\n",
       " 'BMD': 1,\n",
       " 'BND': 1.347346,\n",
       " 'BOB': 6.963801,\n",
       " 'BRL': 3.1346,\n",
       " 'BSD': 1,\n",
       " 'BTC': 0.000257019808,\n",
       " 'BTN': 64.249104,\n",
       " 'BWP': 10.18655,\n",
       " 'BYN': 1.938209,\n",
       " 'BZD': 2.015313,\n",
       " 'CAD': 1.227912,\n",
       " 'CDF': 1562.881563,\n",
       " 'CHF': 0.960995,\n",
       " 'CLF': 0.02323,\n",
       " 'CLP': 625.1,\n",
       " 'CNH': 6.573246,\n",
       " 'CNY': 6.5708,\n",
       " 'COP': 2900.44,\n",
       " 'CRC': 576.345,\n",
       " 'CUC': 1,\n",
       " 'CUP': 25.5,\n",
       " 'CVE': 92.35,\n",
       " 'CZK': 21.732275,\n",
       " 'DJF': 178.77,\n",
       " 'DKK': 6.19372,\n",
       " 'DOP': 47.206,\n",
       " 'DZD': 111.245648,\n",
       " 'EGP': 17.6345,\n",
       " 'ERN': 15.331258,\n",
       " 'ETB': 23.34271,\n",
       " 'EUR': 0.832352,\n",
       " 'FJD': 2.005257,\n",
       " 'FKP': 0.739242,\n",
       " 'GBP': 0.739242,\n",
       " 'GEL': 2.4724,\n",
       " 'GGP': 0.739242,\n",
       " 'GHS': 4.437942,\n",
       " 'GIP': 0.739242,\n",
       " 'GMD': 45.96,\n",
       " 'GNF': 8956.35,\n",
       " 'GTQ': 7.292161,\n",
       " 'GYD': 207.965,\n",
       " 'HKD': 7.804269,\n",
       " 'HNL': 23.385061,\n",
       " 'HRK': 6.2216,\n",
       " 'HTG': 62.998,\n",
       " 'HUF': 256.455,\n",
       " 'IDR': 13260.49124,\n",
       " 'ILS': 3.50871,\n",
       " 'IMP': 0.739242,\n",
       " 'INR': 64.27,\n",
       " 'IQD': 1167.8,\n",
       " 'IRR': 33337.5,\n",
       " 'ISK': 105.89,\n",
       " 'JEP': 0.739242,\n",
       " 'JMD': 130.435,\n",
       " 'JOD': 0.709001,\n",
       " 'JPY': 111.4865,\n",
       " 'KES': 103.295,\n",
       " 'KGS': 68.443862,\n",
       " 'KHR': 4056.3,\n",
       " 'KMF': 410.52645,\n",
       " 'KPW': 900,\n",
       " 'KRW': 1129.74,\n",
       " 'KWD': 0.301348,\n",
       " 'KYD': 0.833183,\n",
       " 'KZT': 341.46,\n",
       " 'LAK': 8282.45,\n",
       " 'LBP': 1507.95,\n",
       " 'LKR': 153.193045,\n",
       " 'LRD': 117.195793,\n",
       " 'LSL': 13.297494,\n",
       " 'LYD': 1.357005,\n",
       " 'MAD': 9.31595,\n",
       " 'MDL': 17.65132,\n",
       " 'MGA': 2989.4,\n",
       " 'MKD': 51.26,\n",
       " 'MMK': 1362.25,\n",
       " 'MNT': 2466.303484,\n",
       " 'MOP': 8.036531,\n",
       " 'MRO': 364.98565,\n",
       " 'MUR': 33.4005,\n",
       " 'MVR': 15.400126,\n",
       " 'MWK': 725.745,\n",
       " 'MXN': 17.810494,\n",
       " 'MYR': 4.192962,\n",
       " 'MZN': 61.724957,\n",
       " 'NAD': 13.297494,\n",
       " 'NGN': 358.91,\n",
       " 'NIO': 30.339992,\n",
       " 'NOK': 7.793638,\n",
       " 'NPR': 102.86,\n",
       " 'NZD': 1.364483,\n",
       " 'OMR': 0.384996,\n",
       " 'PAB': 1,\n",
       " 'PEN': 3.242493,\n",
       " 'PGK': 3.193994,\n",
       " 'PHP': 50.84625,\n",
       " 'PKR': 105.377965,\n",
       " 'PLN': 3.56405,\n",
       " 'PYG': 5662.9,\n",
       " 'QAR': 3.709983,\n",
       " 'RON': 3.830102,\n",
       " 'RSD': 98.975,\n",
       " 'RUB': 58.1162,\n",
       " 'RWF': 844.875,\n",
       " 'SAR': 3.7502,\n",
       " 'SBD': 7.806738,\n",
       " 'SCR': 13.549228,\n",
       " 'SDG': 6.675392,\n",
       " 'SEK': 7.942363,\n",
       " 'SGD': 1.346439,\n",
       " 'SHP': 0.739242,\n",
       " 'SLL': 7550.000256,\n",
       " 'SOS': 579.435007,\n",
       " 'SRD': 7.438,\n",
       " 'SSP': 126.2714,\n",
       " 'STD': 20450.116617,\n",
       " 'SVC': 8.747846,\n",
       " 'SYP': 515.02999,\n",
       " 'SZL': 13.304449,\n",
       " 'THB': 33.0735,\n",
       " 'TJS': 8.803507,\n",
       " 'TMT': 3.509961,\n",
       " 'TND': 2.432599,\n",
       " 'TOP': 2.21955,\n",
       " 'TRY': 3.486582,\n",
       " 'TTD': 6.746787,\n",
       " 'TWD': 30.142,\n",
       " 'TZS': 2245.3,\n",
       " 'UAH': 26.115221,\n",
       " 'UGX': 3597.35,\n",
       " 'USD': 1,\n",
       " 'UYU': 28.897901,\n",
       " 'UZS': 8074.45,\n",
       " 'VEF': 10.17045,\n",
       " 'VND': 22725.335859,\n",
       " 'VUV': 103.567249,\n",
       " 'WST': 2.495435,\n",
       " 'XAF': 545.986989,\n",
       " 'XAG': 0.05778689,\n",
       " 'XAU': 0.00076227,\n",
       " 'XCD': 2.70255,\n",
       " 'XDR': 0.7026,\n",
       " 'XOF': 545.986989,\n",
       " 'XPD': 0.00109115,\n",
       " 'XPF': 99.32599,\n",
       " 'XPT': 0.00104604,\n",
       " 'YER': 250.281642,\n",
       " 'ZAR': 13.308385,\n",
       " 'ZMW': 9.713131,\n",
       " 'ZWL': 322.355011}"
      ]
     },
     "execution_count": 12,
     "metadata": {},
     "output_type": "execute_result"
    }
   ],
   "source": [
    "#api for rates\n",
    "import requests\n",
    "\n",
    "# Where USD is the base currency you want to use\n",
    "url = 'https://openexchangerates.org/api/latest.json?app_id=9e4a30c863734e9ba285f393936ffc4d'\n",
    "\n",
    "# Making our request\n",
    "response = requests.get(url)\n",
    "JSON = response.json()\n",
    "\n",
    "rates=JSON['rates']\n",
    "rates\n"
   ]
  },
  {
   "cell_type": "code",
   "execution_count": 13,
   "metadata": {
    "collapsed": true
   },
   "outputs": [],
   "source": [
    "#unique commodities in india\n",
    "india=data[data['adm0_name'].str.contains(\"India\")]\n",
    "v=india.cm_name.unique()"
   ]
  },
  {
   "cell_type": "code",
   "execution_count": 14,
   "metadata": {},
   "outputs": [
    {
     "name": "stdout",
     "output_type": "stream",
     "text": [
      "{'Afghanistan': 5.0, 'Ethiopia': 1.7353000000000001, 'Guinea-Bissau': 300.0, 'India': 3.7999999999999998, 'Indonesia': 4328.2592000000004, 'Kyrgyzstan': 9.5, 'Mauritania': 80.25, 'Nepal': 11.0, 'Pakistan': 29.75, 'Rwanda': 208.75, 'Tajikistan': 0.14829999999999999, 'Yemen': 50.0, 'Zimbabwe': 0.40000000000000002, 'Sudan': 0.83499999999999996}\n"
     ]
    }
   ],
   "source": [
    "#min of each country rates\n",
    "from functools import reduce\n",
    "from math import isnan\n",
    "y=data.loc[data['pt_name']=='Retail'].index.values\n",
    "z=data.loc[data['cm_name']=='Wheat'].index.values\n",
    "l={}\n",
    "for i in unique_coun:\n",
    "    x=data.loc[data['adm0_name']==i].index.values\n",
    "    result=reduce(set.intersection, map(set, [x,y,z]))\n",
    "    avg=((data.loc[result, ['mp_price']].min())).values\n",
    "    l[i]=avg[0]\n",
    "\n",
    "clean_dict = {k: l[k] for k in l if not isnan(l[k])}  \n",
    "print(clean_dict)    \n",
    "    "
   ]
  },
  {
   "cell_type": "code",
   "execution_count": 15,
   "metadata": {},
   "outputs": [
    {
     "name": "stdout",
     "output_type": "stream",
     "text": [
      "{'AFN': 5.0, 'ETB': 1.7353000000000001, 'XOF': 300.0, 'INR': 3.7999999999999998, 'IDR': 4328.2592000000004, 'KGS': 9.5, 'MRO': 80.25, 'NPR': 11.0, 'PKR': 29.75, 'RWF': 208.75, 'TJS': 0.14829999999999999, 'YER': 50.0, 'USD': 0.40000000000000002, 'SDG': 0.83499999999999996}\n"
     ]
    }
   ],
   "source": [
    "#Country and average retail rate to be multiplied by\n",
    "coun_fact={}\n",
    "for x,y in Coun_type:\n",
    "    for key,value in clean_dict.items():\n",
    "        if x==key:\n",
    "            coun_fact[y]=value\n",
    "print(coun_fact)            "
   ]
  },
  {
   "cell_type": "code",
   "execution_count": 25,
   "metadata": {},
   "outputs": [
    {
     "name": "stdout",
     "output_type": "stream",
     "text": [
      "{'Afghanistan': 68.659, 'Algeria': 111.245648, 'Armenia': 478.51, 'Azerbaijan': 1.6855, 'Bangladesh': 81.96, 'Benin': 545.986989, 'Bhutan': 64.249104, 'Bolivia': 6.963801, 'Burkina Faso': 545.986989, 'Burundi': 1745.75, 'Cambodia': 4056.3, 'Cameroon': 545.986989, 'Cape Verde': 92.35, 'Central African Republic': 545.986989, 'Chad': 545.986989, 'Colombia': 2900.44, 'Congo': 545.986989, 'Costa Rica': 1, \"Cote d'Ivoire\": 545.986989, 'Democratic Republic of the Congo': 1562.881563, 'Djibouti': 178.77, 'El Salvador': 1, 'Ethiopia': 23.34271, 'Gambia': 45.96, 'Georgia': 2.4724, 'Ghana': 4.437942, 'Guatemala': 7.292161, 'Guinea-Bissau': 545.986989, 'Guinea': 8956.35, 'Haiti': 62.998, 'Honduras': 1, 'India': 64.27, 'Indonesia': 13260.49124, 'Iran  (Islamic Republic of)': 33337.5, 'Iraq': 1167.8, 'Jordan': 0.709001, 'Kenya': 103.295, 'Kyrgyzstan': 68.443862, \"Lao People's Democratic Republic\": 8282.45, 'Lebanon': 1507.95, 'Lesotho': 13.297494, 'Liberia': 117.195793, 'Madagascar': 2989.4, 'Malawi': 725.745, 'Mali': 545.986989, 'Mauritania': 364.98565, 'Mozambique': 61.724957, 'Myanmar': 1362.25, 'Nepal': 102.86, 'Niger': 545.986989, 'Nigeria': 358.91, 'Pakistan': 105.377965, 'Panama': 1, 'Peru': 3.242493, 'Philippines': 50.84625, 'Rwanda': 844.875, 'Senegal': 545.986989, 'Somalia': 579.435007, 'Sri Lanka': 153.193045, 'Swaziland': 13.304449, 'Syrian Arab Republic': 515.02999, 'Tajikistan': 8.803507, 'Timor-Leste': 1, 'Turkey': 3.486582, 'Uganda': 3597.35, 'Ukraine': 26.115221, 'United Republic of Tanzania': 2245.3, 'Yemen': 250.281642, 'Zambia': 9.713131, 'Zimbabwe': 1, 'Sudan': 6.675392, 'Egypt': 17.6345, 'South Sudan': 126.2714}\n"
     ]
    }
   ],
   "source": [
    "Coun_name_rate={}\n",
    "for x,y in Coun_type:\n",
    "    for k,v in rates.items():\n",
    "        if y==k:\n",
    "            Coun_name_rate[x]=v\n",
    "print(Coun_name_rate)\n",
    "            "
   ]
  },
  {
   "cell_type": "code",
   "execution_count": 26,
   "metadata": {},
   "outputs": [
    {
     "name": "stdout",
     "output_type": "stream",
     "text": [
      "{'Afghanistan': 343.29500000000002, 'Ethiopia': 40.506604663000005, 'Guinea-Bissau': 163796.09669999999, 'India': 244.22599999999997, 'Indonesia': 57394843.206049412, 'Kyrgyzstan': 650.21668899999997, 'Mauritania': 29290.098412500003, 'Nepal': 1131.46, 'Pakistan': 3134.9944587499999, 'Rwanda': 176367.65625, 'Tajikistan': 1.3055600880999998, 'Yemen': 12514.0821, 'Zimbabwe': 0.40000000000000002, 'Sudan': 5.5739523200000001}\n"
     ]
    }
   ],
   "source": [
    "#convert in usd\n",
    "cost_usd={}\n",
    "for k,v in clean_dict.items():\n",
    "    for x,y in Coun_name_rate.items():\n",
    "        if k==x:\n",
    "            cost_usd[k]=y*v\n",
    "print(cost_usd)\n",
    "#multiply the export cost"
   ]
  },
  {
   "cell_type": "code",
   "execution_count": 36,
   "metadata": {},
   "outputs": [
    {
     "data": {
      "image/png": "[encoded data removed]",
      "text/plain": [
       "<matplotlib.figure.Figure at 0x9eb6410>"
      ]
     },
     "metadata": {},
     "output_type": "display_data"
    },
    {
     "data": {
      "text/plain": [
       "<matplotlib.figure.Figure at 0x9b76eb0>"
      ]
     },
     "metadata": {},
     "output_type": "display_data"
    }
   ],
   "source": [
    "import matplotlib.pyplot as plt\n",
    "\n",
    "top=cost_usd.items()\n",
    "\n",
    "labels, ys = zip(*top)\n",
    "xs = np.arange(len(labels)) \n",
    "width = 1\n",
    "\n",
    "\n",
    "plt.bar(xs, ys, width, align='center')\n",
    "plt.xticks(xs, labels) #Replace default x-ticks with xs, then replace xs with labels\n",
    "plt.yticks(ys)\n",
    "\n",
    "plt.show()"
   ]
  },
  {
   "cell_type": "code",
   "execution_count": 44,
   "metadata": {},
   "outputs": [
    {
     "name": "stdout",
     "output_type": "stream",
     "text": [
      "{'Afghanistan': 435.995, 'Ethiopia': 256.45660466300001, 'Guinea-Bissau': 164295.34669999999, 'India': 244.22599999999997, 'Indonesia': 57395067.75604941, 'Kyrgyzstan': 766.66668900000002, 'Mauritania': 29757.448412500002, 'Nepal': 1182.1600000000001, 'Pakistan': 3207.7444587499999, 'Rwanda': 176663.15625, 'Tajikistan': 109.4555600881, 'Yemen': 12677.382099999999, 'Zimbabwe': 350.25, 'Sudan': 268.07395231999999}\n"
     ]
    }
   ],
   "source": [
    "\n",
    "#travelling cost per kilo meter\n",
    "cost=.05\n",
    "final_cost={}\n",
    "# Making our request\n",
    "# Where USD is the base currency you want to use\n",
    "for k,v in cost_usd.items():\n",
    "    s='http://www.distance24.org/route.json?stops=India|'+k\n",
    "    \n",
    "    url = s\n",
    "    response = requests.get(url)\n",
    "    JSON = response.json()\n",
    "\n",
    "    distance=JSON['distance']\n",
    "   \n",
    "    final_cost[k]=distance*cost + v\n",
    "print(final_cost)\n"
   ]
  },
  {
   "cell_type": "code",
   "execution_count": null,
   "metadata": {
    "collapsed": true
   },
   "outputs": [],
   "source": []
  }
 ],
 "metadata": {
  "kernelspec": {
   "display_name": "Python 3",
   "language": "python",
   "name": "python3"
  },
  "language_info": {
   "codemirror_mode": {
    "name": "ipython",
    "version": 3
   },
   "file_extension": ".py",
   "mimetype": "text/x-python",
   "name": "python",
   "nbconvert_exporter": "python",
   "pygments_lexer": "ipython3",
   "version": "3.6.1"
  }
 },
 "nbformat": 4,
 "nbformat_minor": 2
}
