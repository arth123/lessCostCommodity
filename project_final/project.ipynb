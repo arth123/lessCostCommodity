{
 "cells": [
  {
   "cell_type": "code",
   "execution_count": 2,
   "metadata": {
    "collapsed": true
   },
   "outputs": [],
   "source": [
    "import numpy as np\n",
    "import pandas as pd\n"
   ]
  },
  {
   "cell_type": "code",
   "execution_count": 13,
   "metadata": {},
   "outputs": [
    {
     "data": {
      "text/html": [
       "<div>\n",
       "<style>\n",
       "    .dataframe thead tr:only-child th {\n",
       "        text-align: right;\n",
       "    }\n",
       "\n",
       "    .dataframe thead th {\n",
       "        text-align: left;\n",
       "    }\n",
       "\n",
       "    .dataframe tbody tr th {\n",
       "        vertical-align: top;\n",
       "    }\n",
       "</style>\n",
       "<table border=\"1\" class=\"dataframe\">\n",
       "  <thead>\n",
       "    <tr style=\"text-align: right;\">\n",
       "      <th></th>\n",
       "      <th>adm0_id</th>\n",
       "      <th>adm0_name</th>\n",
       "      <th>adm1_id</th>\n",
       "      <th>adm1_name</th>\n",
       "      <th>mkt_id</th>\n",
       "      <th>mkt_name</th>\n",
       "      <th>cm_id</th>\n",
       "      <th>cm_name</th>\n",
       "      <th>cur_id</th>\n",
       "      <th>cur_name</th>\n",
       "      <th>pt_id</th>\n",
       "      <th>pt_name</th>\n",
       "      <th>um_id</th>\n",
       "      <th>um_name</th>\n",
       "      <th>mp_month</th>\n",
       "      <th>mp_year</th>\n",
       "      <th>mp_price</th>\n",
       "      <th>mp_commoditysource</th>\n",
       "    </tr>\n",
       "  </thead>\n",
       "  <tbody>\n",
       "    <tr>\n",
       "      <th>0</th>\n",
       "      <td>1</td>\n",
       "      <td>Afghanistan</td>\n",
       "      <td>272</td>\n",
       "      <td>Badakhshan</td>\n",
       "      <td>266</td>\n",
       "      <td>Fayzabad</td>\n",
       "      <td>55</td>\n",
       "      <td>Bread</td>\n",
       "      <td>87</td>\n",
       "      <td>AFN</td>\n",
       "      <td>15</td>\n",
       "      <td>Retail</td>\n",
       "      <td>5</td>\n",
       "      <td>KG</td>\n",
       "      <td>1</td>\n",
       "      <td>2014</td>\n",
       "      <td>50.0</td>\n",
       "      <td>WFP</td>\n",
       "    </tr>\n",
       "    <tr>\n",
       "      <th>1</th>\n",
       "      <td>1</td>\n",
       "      <td>Afghanistan</td>\n",
       "      <td>272</td>\n",
       "      <td>Badakhshan</td>\n",
       "      <td>266</td>\n",
       "      <td>Fayzabad</td>\n",
       "      <td>55</td>\n",
       "      <td>Bread</td>\n",
       "      <td>87</td>\n",
       "      <td>AFN</td>\n",
       "      <td>15</td>\n",
       "      <td>Retail</td>\n",
       "      <td>5</td>\n",
       "      <td>KG</td>\n",
       "      <td>2</td>\n",
       "      <td>2014</td>\n",
       "      <td>50.0</td>\n",
       "      <td>WFP</td>\n",
       "    </tr>\n",
       "    <tr>\n",
       "      <th>2</th>\n",
       "      <td>1</td>\n",
       "      <td>Afghanistan</td>\n",
       "      <td>272</td>\n",
       "      <td>Badakhshan</td>\n",
       "      <td>266</td>\n",
       "      <td>Fayzabad</td>\n",
       "      <td>55</td>\n",
       "      <td>Bread</td>\n",
       "      <td>87</td>\n",
       "      <td>AFN</td>\n",
       "      <td>15</td>\n",
       "      <td>Retail</td>\n",
       "      <td>5</td>\n",
       "      <td>KG</td>\n",
       "      <td>3</td>\n",
       "      <td>2014</td>\n",
       "      <td>50.0</td>\n",
       "      <td>WFP</td>\n",
       "    </tr>\n",
       "    <tr>\n",
       "      <th>3</th>\n",
       "      <td>1</td>\n",
       "      <td>Afghanistan</td>\n",
       "      <td>272</td>\n",
       "      <td>Badakhshan</td>\n",
       "      <td>266</td>\n",
       "      <td>Fayzabad</td>\n",
       "      <td>55</td>\n",
       "      <td>Bread</td>\n",
       "      <td>87</td>\n",
       "      <td>AFN</td>\n",
       "      <td>15</td>\n",
       "      <td>Retail</td>\n",
       "      <td>5</td>\n",
       "      <td>KG</td>\n",
       "      <td>4</td>\n",
       "      <td>2014</td>\n",
       "      <td>50.0</td>\n",
       "      <td>WFP</td>\n",
       "    </tr>\n",
       "    <tr>\n",
       "      <th>4</th>\n",
       "      <td>1</td>\n",
       "      <td>Afghanistan</td>\n",
       "      <td>272</td>\n",
       "      <td>Badakhshan</td>\n",
       "      <td>266</td>\n",
       "      <td>Fayzabad</td>\n",
       "      <td>55</td>\n",
       "      <td>Bread</td>\n",
       "      <td>87</td>\n",
       "      <td>AFN</td>\n",
       "      <td>15</td>\n",
       "      <td>Retail</td>\n",
       "      <td>5</td>\n",
       "      <td>KG</td>\n",
       "      <td>5</td>\n",
       "      <td>2014</td>\n",
       "      <td>50.0</td>\n",
       "      <td>WFP</td>\n",
       "    </tr>\n",
       "    <tr>\n",
       "      <th>5</th>\n",
       "      <td>1</td>\n",
       "      <td>Afghanistan</td>\n",
       "      <td>272</td>\n",
       "      <td>Badakhshan</td>\n",
       "      <td>266</td>\n",
       "      <td>Fayzabad</td>\n",
       "      <td>55</td>\n",
       "      <td>Bread</td>\n",
       "      <td>87</td>\n",
       "      <td>AFN</td>\n",
       "      <td>15</td>\n",
       "      <td>Retail</td>\n",
       "      <td>5</td>\n",
       "      <td>KG</td>\n",
       "      <td>6</td>\n",
       "      <td>2014</td>\n",
       "      <td>50.0</td>\n",
       "      <td>WFP</td>\n",
       "    </tr>\n",
       "  </tbody>\n",
       "</table>\n",
       "</div>"
      ],
      "text/plain": [
       "   adm0_id    adm0_name  adm1_id   adm1_name  mkt_id  mkt_name  cm_id cm_name  \\\n",
       "0        1  Afghanistan      272  Badakhshan     266  Fayzabad     55   Bread   \n",
       "1        1  Afghanistan      272  Badakhshan     266  Fayzabad     55   Bread   \n",
       "2        1  Afghanistan      272  Badakhshan     266  Fayzabad     55   Bread   \n",
       "3        1  Afghanistan      272  Badakhshan     266  Fayzabad     55   Bread   \n",
       "4        1  Afghanistan      272  Badakhshan     266  Fayzabad     55   Bread   \n",
       "5        1  Afghanistan      272  Badakhshan     266  Fayzabad     55   Bread   \n",
       "\n",
       "   cur_id cur_name  pt_id pt_name  um_id um_name  mp_month  mp_year  mp_price  \\\n",
       "0      87      AFN     15  Retail      5      KG         1     2014      50.0   \n",
       "1      87      AFN     15  Retail      5      KG         2     2014      50.0   \n",
       "2      87      AFN     15  Retail      5      KG         3     2014      50.0   \n",
       "3      87      AFN     15  Retail      5      KG         4     2014      50.0   \n",
       "4      87      AFN     15  Retail      5      KG         5     2014      50.0   \n",
       "5      87      AFN     15  Retail      5      KG         6     2014      50.0   \n",
       "\n",
       "  mp_commoditysource  \n",
       "0                WFP  \n",
       "1                WFP  \n",
       "2                WFP  \n",
       "3                WFP  \n",
       "4                WFP  \n",
       "5                WFP  "
      ]
     },
     "execution_count": 13,
     "metadata": {},
     "output_type": "execute_result"
    }
   ],
   "source": [
    "data = pd.read_csv('wfp_market_food_prices.csv',encoding = \"ISO-8859-1\")\n",
    "data.head(6)"
   ]
  },
  {
   "cell_type": "code",
   "execution_count": 46,
   "metadata": {},
   "outputs": [
    {
     "name": "stdout",
     "output_type": "stream",
     "text": [
      "74\n"
     ]
    }
   ],
   "source": [
    "unique_coun=data.adm0_name.unique()\n",
    "l=[]\n",
    "for i in unique_coun:\n",
    "    l.append(data.cur_name[(data.loc[data['adm0_name']==i].index[0])])\n",
    "print(len(l))"
   ]
  },
  {
   "cell_type": "code",
   "execution_count": 39,
   "metadata": {},
   "outputs": [],
   "source": [
    "#country name and currency\n",
    "k=list(zip(m,l))\n"
   ]
  },
  {
   "cell_type": "code",
   "execution_count": 45,
   "metadata": {},
   "outputs": [],
   "source": [
    "#api for rates\n",
    "import requests\n",
    "\n",
    "# Where USD is the base currency you want to use\n",
    "url = 'https://v3.exchangerate-api.com/bulk/10db317737079259f3d11b4b/INR'\n",
    "\n",
    "# Making our request\n",
    "response = requests.get(url)\n",
    "JSON = response.json()\n",
    "\n",
    "rates=JSON['rates']"
   ]
  },
  {
   "cell_type": "code",
   "execution_count": 72,
   "metadata": {},
   "outputs": [
    {
     "name": "stdout",
     "output_type": "stream",
     "text": [
      "{'Afghanistan': nan, 'Algeria': 73.075000000000003, 'Armenia': 200.16806722689077, 'Azerbaijan': 0.43896551724137928, 'Bangladesh': nan, 'Benin': nan, 'Bhutan': nan, 'Bolivia': nan, 'Burkina Faso': nan, 'Burundi': nan, 'Cambodia': nan, 'Cameroon': nan, 'Cape Verde': nan, 'Central African Republic': nan, 'Chad': nan, 'Colombia': nan, 'Congo': nan, 'Costa Rica': nan, \"Cote d'Ivoire\": nan, 'Democratic Republic of the Congo': nan, 'Djibouti': nan, 'El Salvador': nan, 'Ethiopia': nan, 'Gambia': nan, 'Georgia': nan, 'Ghana': nan, 'Guatemala': 6.211785714285714, 'Guinea-Bissau': nan, 'Guinea': 8418.1034482758623, 'Haiti': nan, 'Honduras': nan, 'India': 17.99968133535657, 'Indonesia': nan, 'Iran  (Islamic Republic of)': nan, 'Iraq': nan, 'Jordan': 0.75951685393258439, 'Kenya': nan, 'Kyrgyzstan': 18.654134552529154, \"Lao People's Democratic Republic\": nan, 'Lebanon': nan, 'Lesotho': nan, 'Liberia': nan, 'Madagascar': nan, 'Malawi': nan, 'Mali': nan, 'Mauritania': nan, 'Mozambique': nan, 'Myanmar': 512.98445408560281, 'Nepal': nan, 'Niger': nan, 'Nigeria': nan, 'Pakistan': nan, 'Panama': nan, 'Peru': 1.3630158730158732, 'Philippines': nan, 'Rwanda': nan, 'Senegal': nan, 'Somalia': nan, 'Sri Lanka': nan, 'Swaziland': nan, 'Syrian Arab Republic': nan, 'Tajikistan': 1.7086490153172857, 'Timor-Leste': nan, 'Turkey': 1.2581818181818181, 'Uganda': nan, 'Ukraine': 5.2103693798449635, 'United Republic of Tanzania': nan, 'Yemen': 249.88458694690266, 'Zambia': nan, 'Zimbabwe': nan, 'State of Palestine': nan, 'Sudan': nan, 'Egypt': 3.5810181818181812, 'South Sudan': nan}\n"
     ]
    }
   ],
   "source": [
    "from functools import reduce\n",
    "y=data.loc[data['pt_name']=='Retail'].index.values\n",
    "z=data.loc[data['cm_name']=='Potatoes'].index.values\n",
    "l={}\n",
    "for i in unique_coun:\n",
    "    x=data.loc[data['adm0_name']==i].index.values\n",
    "    result=reduce(set.intersection, map(set, [x,y,z]))\n",
    "    avg=((data.loc[result, ['mp_price']].sum())/len(result)).values\n",
    "    l[i]=avg[0]\n",
    "print(l)    \n",
    "    "
   ]
  },
  {
   "cell_type": "code",
   "execution_count": 70,
   "metadata": {},
   "outputs": [
    {
     "data": {
      "text/plain": [
       "array(['Rice', 'Wheat flour', 'Lentils (masur)', 'Potatoes', 'Sugar',\n",
       "       'Lentils', 'Tomatoes', 'Onions', 'Tea (black)', 'Oil (mustard)',\n",
       "       'Oil (soybean)', 'Lentils (moong)', 'Sugar (jaggery/gur)',\n",
       "       'Lentils (urad)', 'Ghee (vanaspati)', 'Salt (iodised)',\n",
       "       'Milk (pasteurized)', 'Oil (palm)', 'Wheat', 'Oil (sunflower)',\n",
       "       'Oil (groundnut)'], dtype=object)"
      ]
     },
     "execution_count": 70,
     "metadata": {},
     "output_type": "execute_result"
    }
   ],
   "source": [
    "india=data[data['adm0_name'].str.contains(\"India\")]\n",
    "india.cm_name.unique()\n"
   ]
  },
  {
   "cell_type": "code",
   "execution_count": null,
   "metadata": {
    "collapsed": true
   },
   "outputs": [],
   "source": []
  }
 ],
 "metadata": {
  "kernelspec": {
   "display_name": "Python 3",
   "language": "python",
   "name": "python3"
  },
  "language_info": {
   "codemirror_mode": {
    "name": "ipython",
    "version": 3
   },
   "file_extension": ".py",
   "mimetype": "text/x-python",
   "name": "python",
   "nbconvert_exporter": "python",
   "pygments_lexer": "ipython3",
   "version": "3.6.1"
  }
 },
 "nbformat": 4,
 "nbformat_minor": 2
}
